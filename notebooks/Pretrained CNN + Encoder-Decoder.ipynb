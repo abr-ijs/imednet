{
 "cells": [
  {
   "cell_type": "markdown",
   "metadata": {
    "ein.tags": "worksheet-0",
    "slideshow": {
     "slide_type": "-"
    }
   },
   "source": [
    "# Pretrained CNN + Encoder-Decoder"
   ]
  },
  {
   "cell_type": "markdown",
   "metadata": {
    "ein.tags": "worksheet-0",
    "slideshow": {
     "slide_type": "-"
    }
   },
   "source": [
    "## Setup"
   ]
  },
  {
   "cell_type": "code",
   "execution_count": 1,
   "metadata": {
    "autoscroll": false,
    "ein.hycell": false,
    "ein.tags": "worksheet-0",
    "slideshow": {
     "slide_type": "-"
    }
   },
   "outputs": [],
   "source": [
    "%reload_ext autoreload\n",
    "%autoreload 2\n",
    "%matplotlib inline\n",
    "\n",
    "from __future__ import print_function, division\n",
    "\n",
    "import os\n",
    "import sys\n",
    "\n",
    "# NOTE: Inferring the project root path like this will not always work\n",
    "# (e.g. when the notebook resides on a different server to the kernel)\n",
    "# Set the path directly if necessary.\n",
    "root_path = os.path.dirname(os.getcwd())\n",
    "sys.path.append(root_path)\n",
    "\n",
    "import torch\n",
    "import torch.nn as nn\n",
    "import torch.optim as optim\n",
    "from torch.optim import lr_scheduler\n",
    "import numpy as np\n",
    "import torchvision\n",
    "from torchvision import datasets, models, transforms\n",
    "from torch.utils.data.sampler import SubsetRandomSampler\n",
    "import matplotlib.pyplot as plt\n",
    "import time\n",
    "import copy\n",
    "import glob\n",
    "from PIL import Image\n",
    "\n",
    "\n",
    "from imednet.models.encoder_decoder import CNNEncoderDecoderNet, TrainingParameters\n",
    "from imednet.data.synth_mnist_loader import MatLoader\n",
    "from imednet.trainers.encoder_decoder_trainer import Trainer\n",
    "\n",
    "plt.ion()   # interactive mode"
   ]
  },
  {
   "cell_type": "markdown",
   "metadata": {
    "ein.tags": "worksheet-0",
    "slideshow": {
     "slide_type": "-"
    }
   },
   "source": [
    "## Parameters"
   ]
  },
  {
   "cell_type": "code",
   "execution_count": 11,
   "metadata": {
    "autoscroll": false,
    "ein.hycell": false,
    "ein.tags": "worksheet-0",
    "slideshow": {
     "slide_type": "-"
    }
   },
   "outputs": [],
   "source": [
    "# data_path = os.path.join(root_path, 'data/slike_780.4251')\n",
    "data_path = os.path.join(root_path, 'data/slike_503.6471')\n",
    "# model_load_path = os.path.join(root_path, 'models/cnn_encoder_decoder/Model 2018-07-09 19:49:39.649210')\n",
    "model_load_path = os.path.join(root_path, 'models/cnn_encoder_decoder/Model 2018-07-11 17:31:04.763401')\n",
    "cnn_model_load_path = os.path.join(root_path, 'models/mnist_cnn/mnist_cnn.model')"
   ]
  },
  {
   "cell_type": "markdown",
   "metadata": {
    "ein.tags": "worksheet-0",
    "slideshow": {
     "slide_type": "-"
    }
   },
   "source": [
    "## Load Data"
   ]
  },
  {
   "cell_type": "code",
   "execution_count": 12,
   "metadata": {
    "autoscroll": false,
    "ein.hycell": false,
    "ein.tags": "worksheet-0",
    "slideshow": {
     "slide_type": "-"
    }
   },
   "outputs": [],
   "source": [
    "# Load data and scale it\n",
    "images, outputs, scale, or_tr = MatLoader.load_data(data_path)"
   ]
  },
  {
   "cell_type": "markdown",
   "metadata": {
    "ein.tags": "worksheet-0",
    "slideshow": {
     "slide_type": "-"
    }
   },
   "source": [
    "## Load Model"
   ]
  },
  {
   "cell_type": "code",
   "execution_count": 13,
   "metadata": {
    "autoscroll": false,
    "ein.hycell": false,
    "ein.tags": "worksheet-0",
    "slideshow": {
     "slide_type": "-"
    }
   },
   "outputs": [],
   "source": [
    "# Set up DMP parameters\n",
    "N = 25g$\n",
    "sampling_time = 0.1\n",
    "\n",
    "# Define layer sizes\n",
    "input_size = 1600\n",
    "hidden_layer_sizes = [20, 35]\n",
    "output_size = 2*N + 4\n",
    "layer_sizes = [input_size] + hidden_layer_sizes + [output_size]"
   ]
  },
  {
   "cell_type": "code",
   "execution_count": 14,
   "metadata": {
    "autoscroll": false,
    "ein.hycell": false,
    "ein.tags": "worksheet-0",
    "slideshow": {
     "slide_type": "-"
    }
   },
   "outputs": [],
   "source": [
    "# Load the model\n",
    "model = CNNEncoderDecoderNet(cnn_model_load_path, layer_sizes, scale)"
   ]
  },
  {
   "cell_type": "code",
   "execution_count": 15,
   "metadata": {
    "autoscroll": false,
    "ein.hycell": false,
    "ein.tags": "worksheet-0",
    "slideshow": {
     "slide_type": "-"
    }
   },
   "outputs": [],
   "source": [
    "# Initialize the model\n",
    "net_params_path = os.path.join(model_load_path, 'net_parameters')\n",
    "model.load_state_dict(torch.load(net_params_path))"
   ]
  },
  {
   "cell_type": "markdown",
   "metadata": {},
   "source": [
    "## Test on Synthetic Digit Images"
   ]
  },
  {
   "cell_type": "markdown",
   "metadata": {},
   "source": [
    "Note that the current version of this randomly selects samples from the ENTIRE dataset (including training, validation and test sets).  TODO: fix this later."
   ]
  },
  {
   "cell_type": "code",
   "execution_count": 16,
   "metadata": {
    "autoscroll": false,
    "ein.hycell": false,
    "ein.tags": "worksheet-0",
    "slideshow": {
     "slide_type": "-"
    }
   },
   "outputs": [],
   "source": [
    "torch_images = torch.autograd.Variable(torch.from_numpy(images)).float()\n",
    "torch_outputs = torch.autograd.Variable(torch.from_numpy(outputs)).float()"
   ]
  },
  {
   "cell_type": "code",
   "execution_count": 17,
   "metadata": {
    "autoscroll": false,
    "ein.hycell": false,
    "ein.tags": "worksheet-0",
    "slideshow": {
     "slide_type": "-"
    }
   },
   "outputs": [],
   "source": [
    "torch_predicted_outputs = model(torch_images)"
   ]
  },
  {
   "cell_type": "code",
   "execution_count": 18,
   "metadata": {
    "autoscroll": false,
    "ein.hycell": false,
    "ein.tags": "worksheet-0",
    "slideshow": {
     "slide_type": "-"
    }
   },
   "outputs": [],
   "source": [
    "trainer = Trainer()"
   ]
  },
  {
   "cell_type": "code",
   "execution_count": 36,
   "metadata": {
    "autoscroll": false,
    "ein.hycell": false,
    "ein.tags": "worksheet-0",
    "slideshow": {
     "slide_type": "-"
    }
   },
   "outputs": [
    {
     "data": {
      "image/png": "[encoded data removed]",
      "text/plain": [
       "<Figure size 432x288 with 1 Axes>"
      ]
     },
     "metadata": {},
     "output_type": "display_data"
    }
   ],
   "source": [
    "i_sample = np.random.randint(outputs.shape[0])\n",
    "sample_output_dmp = trainer.create_dmp(torch_outputs[i_sample,:], model.scale, 0.01, 25, True)\n",
    "torch_sample_predicted_output = torch.cat((torch.tensor([-1.]), torch_predicted_outputs[i_sample,:]), 0)\n",
    "sample_predicted_output_dmp = trainer.create_dmp(torch_sample_predicted_output, model.scale, 0.01, 25, True)\n",
    "sample_output_dmp.joint()\n",
    "# mat = trainer.show_dmp(images[i_sample,:], sample_output_dmp.Y, sample_predicted_output_dmp, plot=False)\n",
    "mat = trainer.show_dmp(images[i_sample,:], None, sample_predicted_output_dmp, plot=False)"
   ]
  },
  {
   "cell_type": "markdown",
   "metadata": {},
   "source": [
    "## Transfer to Unseen MNIST Digit Images"
   ]
  },
  {
   "cell_type": "code",
   "execution_count": 34,
   "metadata": {
    "autoscroll": false,
    "ein.hycell": false,
    "ein.tags": "worksheet-0",
    "slideshow": {
     "slide_type": "-"
    }
   },
   "outputs": [
    {
     "data": {
      "text/plain": [
       "(60000, 784)"
      ]
     },
     "execution_count": 34,
     "metadata": {},
     "output_type": "execute_result"
    }
   ],
   "source": [
    "import mnist\n",
    "from mnist import MNIST\n",
    "mndata = MNIST(os.path.join(root_path, 'data/mnist'))\n",
    "mnist_images, mnist_labels = mndata.load_training()\n",
    "mnist_images = np.asarray(mnist_images)\n",
    "mnist_images.shape"
   ]
  },
  {
   "cell_type": "code",
   "execution_count": 35,
   "metadata": {
    "autoscroll": false,
    "ein.hycell": false,
    "ein.tags": "worksheet-0",
    "slideshow": {
     "slide_type": "-"
    }
   },
   "outputs": [
    {
     "data": {
      "image/png": "[encoded data removed]",
      "text/plain": [
       "<Figure size 432x288 with 1 Axes>"
      ]
     },
     "metadata": {},
     "output_type": "display_data"
    }
   ],
   "source": [
    "i_sample = np.random.randint(mnist_images.shape[0])\n",
    "mnist_sample = mnist_images[i_sample,:].reshape(28,28)\n",
    "pil_mnist_sample = Image.fromarray(np.uint8(mnist_sample))\n",
    "pil_scaled_mnist_sample = pil_mnist_sample.resize((40,40))\n",
    "scaled_mnist_sample = np.array(pil_scaled_mnist_sample).reshape(1,40*40)\n",
    "scaled_mnist_sample = scaled_mnist_sample / np.max(scaled_mnist_sample)\n",
    "torch_scaled_mnist_sample = torch.autograd.Variable(torch.from_numpy(scaled_mnist_sample)).float()\n",
    "torch_scaled_mnist_sample_predicted_output = model(torch_scaled_mnist_sample)\n",
    "torch_scaled_mnist_sample_predicted_output = torch.cat((torch.tensor([-1.]), torch_scaled_mnist_sample_predicted_output[0,:]), 0)\n",
    "scaled_mnist_sample_predicted_output_dmp = trainer.create_dmp(torch_scaled_mnist_sample_predicted_output, model.scale, 0.01, 25, True)\n",
    "scaled_mnist_sample_predicted_output_dmp.joint()\n",
    "mat = trainer.show_dmp(scaled_mnist_sample, None, scaled_mnist_sample_predicted_output_dmp, plot=False)"
   ]
  },
  {
   "cell_type": "code",
   "execution_count": null,
   "metadata": {},
   "outputs": [],
   "source": []
  }
 ],
 "metadata": {
  "kernelspec": {
   "display_name": "Python 3",
   "language": "python",
   "name": "python3"
  },
  "language_info": {
   "codemirror_mode": {
    "name": "ipython",
    "version": 3
   },
   "file_extension": ".py",
   "mimetype": "text/x-python",
   "name": "python",
   "nbconvert_exporter": "python",
   "pygments_lexer": "ipython3",
   "version": "3.6.5"
  },
  "name": "Pretrained CNN + Encoder-Decoder.ipynb"
 },
 "nbformat": 4,
 "nbformat_minor": 2
}
