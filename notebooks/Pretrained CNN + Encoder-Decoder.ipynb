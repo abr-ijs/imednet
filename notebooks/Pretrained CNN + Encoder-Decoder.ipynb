{
 "cells": [
  {
   "cell_type": "markdown",
   "metadata": {
    "ein.tags": "worksheet-0",
    "slideshow": {
     "slide_type": "-"
    }
   },
   "source": [
    "# Pretrained CNN + Encoder-Decoder"
   ]
  },
  {
   "cell_type": "markdown",
   "metadata": {
    "ein.tags": "worksheet-0",
    "slideshow": {
     "slide_type": "-"
    }
   },
   "source": [
    "## Setup"
   ]
  },
  {
   "cell_type": "code",
   "execution_count": 2,
   "metadata": {
    "autoscroll": false,
    "collapsed": false,
    "ein.hycell": false,
    "ein.tags": "worksheet-0",
    "slideshow": {
     "slide_type": "-"
    }
   },
   "outputs": [],
   "source": [
    "%reload_ext autoreload\n",
    "%autoreload 2\n",
    "%matplotlib inline\n",
    "\n",
    "from __future__ import print_function, division\n",
    "\n",
    "import os\n",
    "import sys\n",
    "# sys.path.append('..')\n",
    "\n",
    "import torch\n",
    "import torch.nn as nn\n",
    "import torch.optim as optim\n",
    "from torch.optim import lr_scheduler\n",
    "import numpy as np\n",
    "import torchvision\n",
    "from torchvision import datasets, models, transforms\n",
    "from torch.utils.data.sampler import SubsetRandomSampler\n",
    "import matplotlib.pyplot as plt\n",
    "import time\n",
    "import copy\n",
    "import glob\n",
    "from PIL import Image\n",
    "\n",
    "# import pytorch_mnist\n",
    "# from pytorch_mnist import Net as MNISTNet\n",
    "\n",
    "plt.ion()   # interactive mode"
   ]
  },
  {
   "cell_type": "markdown",
   "metadata": {
    "ein.tags": "worksheet-0",
    "slideshow": {
     "slide_type": "-"
    }
   },
   "source": [
    "## Define Network"
   ]
  },
  {
   "cell_type": "code",
   "execution_count": 3,
   "metadata": {
    "autoscroll": false,
    "collapsed": false,
    "ein.hycell": false,
    "ein.tags": "worksheet-0",
    "slideshow": {
     "slide_type": "-"
    }
   },
   "outputs": [],
   "source": [
    "class CNNEncoderDecoderNet(torch.nn.Module):\n",
    "    def __init__(self, layer_sizes = [784,200,50], scale = None):\n",
    "        \"\"\"\n",
    "        Creates a pretrained CNN + Encoder-Decoder network.\n",
    "\n",
    "        layer_sizes -> list containing layer inputs/ouptuts (minimum length = 3)\n",
    "            example:\n",
    "                layer_sizes = [784,500,200,50]\n",
    "                middleLayers -> [torch.nn.Linear(500,200)]\n",
    "                outputLayer -> torch.nn.Linear(200,50)\n",
    "        \"\"\"\n",
    "        super(Network, self).__init__()\n",
    "        \n",
    "        # Load the MNIST CNN model\n",
    "        self.cnn_model = MNISTNet()\n",
    "        # Load the pretrained weights\n",
    "        self.cnn_model.load_state_dict(torch.load('./models/pytorch_mnist.model'))\n",
    "        # Chop off the last FC layer\n",
    "        self.cnn_model = nn.Sequential(*list(self.cnn_model.modules())[:-1])\n",
    "        # Get the output size of the chopped net\n",
    "        cnn_out_size = self.cnn_model[-1].state_dict()['weight'].size()[0]\n",
    "        \n",
    "        # Set up the input layer for encoder-decoder part\n",
    "        self.inputLayer = torch.nn.Linear(cnn_out_size, layer_sizes[1])\n",
    "        \n",
    "        self.middleLayers = []\n",
    "        for i in range(1, len(layer_sizes) - 2):\n",
    "            layer = torch.nn.Linear(layer_sizes[i], layer_sizes[i+1])\n",
    "            self.middleLayers.append(layer)\n",
    "            self.add_module(\"middleLayer_\" + str(i), layer)\n",
    "        self.outputLayer = torch.nn.Linear(layer_sizes[-2], layer_sizes[-1])\n",
    "        self.scale = scale\n",
    "        self.loss = 0\n",
    "\n",
    "    def forward(self, x):\n",
    "        \"\"\"\n",
    "        Defines the layers connections\n",
    "\n",
    "        forward(x) -> result of forward propagation through network\n",
    "        x -> input to the Network\n",
    "        \"\"\"\n",
    "        #activation_fn = torch.nn.ReLU6()\n",
    "        activation_fn = torch.nn.Tanh()\n",
    "        \n",
    "        # Run the input through the pretrained CNN\n",
    "        x = self.cnn_model.forward(x)\n",
    "\n",
    "        x = activation_fn(self.inputLayer(x))\n",
    "        for layer in self.middleLayers:\n",
    "            x = activation_fn(layer(x))\n",
    "        output = self.outputLayer(x)\n",
    "        return output\n",
    "\n",
    "    def isCuda(self):\n",
    "        return self.inputLayer.weight.is_cuda\n"
   ]
  },
  {
   "cell_type": "code",
   "execution_count": null,
   "metadata": {
    "autoscroll": false,
    "collapsed": false,
    "ein.hycell": false,
    "ein.tags": "worksheet-0",
    "slideshow": {
     "slide_type": "-"
    }
   },
   "outputs": [],
   "source": []
  }
 ],
 "metadata": {
  "kernelspec": {
   "display_name": "Python 3",
   "name": "python3"
  },
  "language_info": {
   "codemirror_mode": {
    "name": "ipython",
    "version": 3
   },
   "file_extension": ".py",
   "mimetype": "text/x-python",
   "name": "python",
   "nbconvert_exporter": "python",
   "pygments_lexer": "ipython3",
   "version": "3.6.4"
  },
  "name": "Pretrained CNN + Encoder-Decoder.ipynb"
 },
 "nbformat": 4,
 "nbformat_minor": 2
}
